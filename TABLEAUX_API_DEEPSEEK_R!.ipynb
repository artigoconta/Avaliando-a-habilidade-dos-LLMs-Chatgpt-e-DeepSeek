{
  "nbformat": 4,
  "nbformat_minor": 0,
  "metadata": {
    "colab": {
      "provenance": []
    },
    "kernelspec": {
      "name": "python3",
      "display_name": "Python 3"
    },
    "language_info": {
      "name": "python"
    }
  },
  "cells": [
    {
      "cell_type": "code",
      "execution_count": null,
      "metadata": {
        "id": "G-Q0IFR0vB9A"
      },
      "outputs": [],
      "source": [
        "#importando bibliotecas\n",
        "from random import randrange\n",
        "import os.path\n",
        "import requests\n",
        "import json\n",
        "import os\n",
        "import configparser"
      ]
    },
    {
      "cell_type": "markdown",
      "source": [
        "# Nova seção"
      ],
      "metadata": {
        "id": "zYEinXO4rgQr"
      }
    },
    {
      "cell_type": "code",
      "source": [
        "questoes_TA = dict()\n",
        "questoes_TA['Q1'] = r'$\\vdash (A\\lor (A\\land B))\\rightarrow A$'\n",
        "questoes_TA['Q2'] = r'$\\vdash (A\\land (A\\lor B))\\rightarrow A$'\n",
        "questoes_TA['Q3'] = r'$A\\rightarrow (B\\rightarrow C) \\vdash B\\rightarrow (A\\rightarrow C)$'\n",
        "questoes_TA['Q4'] = r'$\\vdash (A\\rightarrow (A\\rightarrow B))\\rightarrow (A\\rightarrow B)$'\n",
        "questoes_TA['Q5'] = r'$\\vdash (\\lnot A\\rightarrow B)\\rightarrow ((\\lnot A\\rightarrow \\lnot B)\\rightarrow A)$'\n",
        "questoes_TA['Q6'] = r'$\\vdash A\\lor \\lnot A$'\n",
        "questoes_TA['Q7'] = r'$\\vdash (A\\rightarrow B)\\lor (B\\rightarrow A)$'\n",
        "questoes_TA['Q8'] = r'$\\vdash A\\rightarrow A$'\n",
        "questoes_TA['Q9'] = r'$\\vdash (A\\rightarrow B)\\rightarrow ((C\\rightarrow A)\\rightarrow (C\\rightarrow A))$'\n",
        "questoes_TA['Q10'] = r'$(A\\land B)\\rightarrow C \\vdash B\\rightarrow (A\\rightarrow C)$'\n",
        "questoes_TA['Q11'] = r'$B\\rightarrow (A\\rightarrow C) \\vdash (A\\land B)\\rightarrow C$'\n",
        "questoes_TA['Q12'] = r'$A\\rightarrow (B\\rightarrow C) \\vdash (A\\rightarrow B)\\rightarrow (A\\rightarrow C)$'\n",
        "questoes_TA['Q13'] = r'$\\vdash A\\rightarrow (B\\rightarrow A)$'\n",
        "questoes_TA['Q14'] = r'$\\vdash ((A\\rightarrow B)\\rightarrow A)\\rightarrow A$'\n",
        "questoes_TA['Q15'] = r'$A\\lor B, A\\rightarrow C, B\\rightarrow C \\vdash C$'\n",
        "questoes_TA['Q16'] = r'$A \\vdash \\lnot \\lnot A$'\n",
        "questoes_TA['Q17'] = r'$\\lnot \\lnot A \\vdash A$'\n",
        "questoes_TA['Q18'] = r'$A\\rightarrow B, \\lnot B \\vdash \\lnot A$'\n",
        "questoes_TA['Q19'] = r'$\\lnot B\\rightarrow \\lnot A \\vdash A\\rightarrow B$'\n",
        "questoes_TA['Q20'] = r'$A\\rightarrow B \\vdash \\lnot B\\rightarrow \\lnot A$'\n",
        "questoes_TA['Q21'] = r'$\\lnot(A\\lor B) \\vdash \\lnot A\\land \\lnot B$'\n",
        "questoes_TA['Q22'] = r'$\\lnot A\\land \\lnot B \\vdash \\lnot(A\\lor B)$'\n",
        "questoes_TA['Q23'] = r'$\\lnot(A\\land B) \\vdash \\lnot A\\lor \\lnot B$'\n",
        "questoes_TA['Q24'] = r'$\\lnot A\\lor \\lnot B \\vdash \\lnot(A\\land B)$'\n",
        "questoes_TA['Q25'] = r'$\\lnot A\\lor B \\vdash A\\rightarrow B$'\n",
        "questoes_TA['Q26'] = r'$(A\\lor B)\\land (A\\lor C) \\vdash A\\lor (B\\land C)$'\n",
        "questoes_TA['Q27'] = r'$A\\land (B\\lor C) \\vdash (A\\land B)\\lor (A\\land C)$'\n",
        "questoes_TA['Q28'] = r'$(A\\land B)\\lor (A\\land C) \\vdash A\\land (B\\lor C)$'\n",
        "questoes_TA['Q29'] = r'$A\\lor B, \\lnot B \\vdash A$'\n",
        "questoes_TA['Q30'] = r'$A\\lor B \\vdash \\lnot A\\rightarrow B$'\n",
        "questoes_TA['Q31'] = r'$\\lnot A\\rightarrow B \\vdash A\\lor B$'\n",
        "questoes_TA['Q32'] = r'$A\\land B \\vdash \\lnot(A\\rightarrow \\lnot B)$'\n",
        "questoes_TA['Q33'] = r'$\\lnot(A\\rightarrow \\lnot B) \\vdash A\\land B$'\n",
        "questoes_TA['Q34'] = r'$A\\lor B \\vdash \\lnot(\\lnot A\\land \\lnot B)$'\n",
        "questoes_TA['Q35'] = r'$\\lnot(\\lnot A\\land \\lnot B) \\vdash A\\lor B$'\n",
        "questoes_TA['Q36'] = r'$A\\rightarrow B \\vdash \\lnot(A\\land \\lnot B)$'\n",
        "questoes_TA['Q37'] = r'$\\lnot(A\\land \\lnot B) \\vdash A\\rightarrow B$'\n",
        "questoes_TA['Q38'] = r'$A\\land B \\vdash \\lnot(\\lnot A\\lor \\lnot B)$'\n",
        "questoes_TA['Q39'] = r'$\\lnot(\\lnot A\\lor \\lnot B) \\vdash A\\land B$'\n",
        "questoes_TA['Q40'] = r'$A\\rightarrow B \\vdash \\lnot A\\lor B$'\n"
      ],
      "metadata": {
        "id": "6SwzOup1zpiZ"
      },
      "execution_count": null,
      "outputs": []
    },
    {
      "cell_type": "code",
      "source": [
        "\n",
        "  # Substitua pela sua chave de API do OpenRouter\n",
        "  API_KEY = '**********'\n",
        "  API_URL = 'https://openrouter.ai/api/v1/chat/completions'\n",
        "\n",
        "# Defina os cabeçalhos para a requisição da API\n",
        "  headers = {\n",
        "    'Authorization': f'Bearer {API_KEY}',\n",
        "    'Content-Type': 'application/json'\n",
        "  }\n",
        "\n",
        "def chamada_api_deepseek(messages):\n",
        "    payload = {\n",
        "        \"model\": \"deepseek/deepseek-r1\",\n",
        "        \"messages\": messages\n",
        "    }\n",
        "    response = requests.post(API_URL, headers=headers, json=payload)\n",
        "    if response.status_code == 200:\n",
        "        return response.json()\n",
        "    else:\n",
        "        return {\"error_msg\": f\"Status {response.status_code}: {response.text}\"}\n",
        "\n"
      ],
      "metadata": {
        "id": "PB_LC9hp0wWy"
      },
      "execution_count": null,
      "outputs": []
    },
    {
      "cell_type": "code",
      "source": [
        "# Texto Padrao da primeira mensagem do usuario\n",
        "user_content = r\"\"\"escreva a prova $A\\lor (B\\land C) \\vdash (A\\lor B)\\land (A\\lor C)$ usando o sistema de tableaux analitico na linguagem latex na biblioteca qtree\"\"\"\n",
        "# Texto Padrao da primeira mensagem do assistente\n",
        "assistant_response = r\"\"\"\n",
        "\\Tree [.{$T~A\\lor (B\\land C)$ \\\\ $F~(A\\lor B)\\land (A\\lor C)$} [.{$F~A\\lor B$} [.{{\\color{blue}$F~A$} \\\\ {\\color{blue}$F~B$}} [.{\\color{blue}{$T~A$}} [.{$\\times$} ] ] [.{$T~B\\land C$} [.{{\\color{blue}$T~B$} \\\\ $T~C$} [.{$\\times$} ] ] ] ] ] [.{$F~A\\lor C$} [.{{\\color{blue}$F~A$} \\\\ {\\color{blue}$F~C$}} [.{\\color{blue}{$T~A$}} [.{$\\times$} ] ] [.{$T~B\\land C$} [.{$T~B$ \\\\ {\\color{blue}$T~C$}} [.{$\\times$} ] ] ] ] ] ]\n",
        "\"\"\"\n",
        "print(user_content)\n",
        "print(assistant_response)"
      ],
      "metadata": {
        "colab": {
          "base_uri": "https://localhost:8080/"
        },
        "id": "MNGk436_03v9",
        "outputId": "35073be0-dd08-4452-8778-303edad45524"
      },
      "execution_count": null,
      "outputs": [
        {
          "output_type": "stream",
          "name": "stdout",
          "text": [
            "escreva a prova $A\\lor (B\\land C) \\vdash (A\\lor B)\\land (A\\lor C)$ usando o sistema de tableaux analitico na linguagem latex na biblioteca qtree\n",
            "\n",
            "\\Tree [.{$T~A\\lor (B\\land C)$ \\\\ $F~(A\\lor B)\\land (A\\lor C)$} [.{$F~A\\lor B$} [.{{\\color{blue}$F~A$} \\\\ {\\color{blue}$F~B$}} [.{\\color{blue}{$T~A$}} [.{$\\times$} ] ] [.{$T~B\\land C$} [.{{\\color{blue}$T~B$} \\\\ $T~C$} [.{$\\times$} ] ] ] ] ] [.{$F~A\\lor C$} [.{{\\color{blue}$F~A$} \\\\ {\\color{blue}$F~C$}} [.{\\color{blue}{$T~A$}} [.{$\\times$} ] ] [.{$T~B\\land C$} [.{$T~B$ \\\\ {\\color{blue}$T~C$}} [.{$\\times$} ] ] ] ] ] ]\n",
            "\n"
          ]
        }
      ]
    },
    {
      "cell_type": "code",
      "source": [
        "user_question = f\"\"\"escreva a prova ${questoes_TA['Q1']}$ usando o sistema de tableaux analitico na linguagem latex na biblioteca qtree\"\"\"\n",
        "user_question"
      ],
      "metadata": {
        "colab": {
          "base_uri": "https://localhost:8080/",
          "height": 36
        },
        "id": "0QTp6anV3KhL",
        "outputId": "0b7fff53-268a-49c3-e5be-c5f106c7a574"
      },
      "execution_count": null,
      "outputs": [
        {
          "output_type": "execute_result",
          "data": {
            "text/plain": [
              "'escreva a prova $$\\\\vdash (A\\\\lor (A\\\\land B))\\\\rightarrow A$$ usando o sistema de tableaux analitico na linguagem latex na biblioteca qtree'"
            ],
            "application/vnd.google.colaboratory.intrinsic+json": {
              "type": "string"
            }
          },
          "metadata": {},
          "execution_count": 7
        }
      ]
    },
    {
      "cell_type": "code",
      "source": [
        "arquivo_LATEX = ''''''\n",
        "dicionarios_questoes = []\n",
        "\n",
        "for x in range(1, 41):\n",
        "    user_question = f\"\"\"escreva a prova ${questoes_TA[f'Q{x}']}$ usando o sistema de tableaux analitico na linguagem latex na biblioteca qtree\"\"\"\n",
        "\n",
        "    conversa_entrada = [\n",
        "        {\"role\": \"user\", \"content\": user_content},\n",
        "        {\"role\": \"assistant\", \"content\": assistant_response},\n",
        "        {\"role\": \"user\", \"content\": user_question}\n",
        "    ]\n",
        "\n",
        "    resposta_ = chamada_api_deepseek(conversa_entrada)\n",
        "\n",
        "    if isinstance(resposta_, dict) and 'choices' in resposta_:\n",
        "        texto_resposta = resposta_['choices'][0]['message']['content']\n",
        "    else:\n",
        "        texto_resposta = resposta_.get(\"error_msg\", str(resposta_))\n",
        "\n",
        "    print(f\"\\nQuestão {x}\")\n",
        "    print(\"mensagens de entrada:\", conversa_entrada)\n",
        "    print(\"resposta:\", texto_resposta)\n",
        "\n",
        "    arquivo_LATEX += f'\\n\\\\item {questoes_TA[f\"Q{x}\"]} \\n\\nRESPOSTA\\n\\n{texto_resposta}\\n\\n'\n",
        "    dicionarios_questoes.append({\n",
        "        'numero': f'q{x}',\n",
        "        'questao': questoes_TA[f'Q{x}'],\n",
        "        'resposta': texto_resposta,\n",
        "        'resposta_correta': '',\n",
        "        'avaliacao': ''\n",
        "    })"
      ],
      "metadata": {
        "id": "bIF4-oah02Zw",
        "colab": {
          "base_uri": "https://localhost:8080/"
        },
        "outputId": "3b2506f7-d105-4c39-a4a9-ea15277df531"
      },
      "execution_count": null,
      "outputs": [
        {
          "output_type": "stream",
          "name": "stdout",
          "text": [
            "\n",
            "Questão 1\n",
            "mensagens de entrada: [{'role': 'user', 'content': 'escreva a prova $A\\\\lor (B\\\\land C) \\\\vdash (A\\\\lor B)\\\\land (A\\\\lor C)$ usando o sistema de tableaux analitico na linguagem latex na biblioteca qtree'}, {'role': 'assistant', 'content': '\\n\\\\Tree [.{$T~A\\\\lor (B\\\\land C)$ \\\\\\\\ $F~(A\\\\lor B)\\\\land (A\\\\lor C)$} [.{$F~A\\\\lor B$} [.{{\\\\color{blue}$F~A$} \\\\\\\\ {\\\\color{blue}$F~B$}} [.{\\\\color{blue}{$T~A$}} [.{$\\\\times$} ] ] [.{$T~B\\\\land C$} [.{{\\\\color{blue}$T~B$} \\\\\\\\ $T~C$} [.{$\\\\times$} ] ] ] ] ] [.{$F~A\\\\lor C$} [.{{\\\\color{blue}$F~A$} \\\\\\\\ {\\\\color{blue}$F~C$}} [.{\\\\color{blue}{$T~A$}} [.{$\\\\times$} ] ] [.{$T~B\\\\land C$} [.{$T~B$ \\\\\\\\ {\\\\color{blue}$T~C$}} [.{$\\\\times$} ] ] ] ] ] ]\\n'}, {'role': 'user', 'content': 'escreva a prova $$\\\\vdash (A\\\\lor (A\\\\land B))\\\\rightarrow A$$ usando o sistema de tableaux analitico na linguagem latex na biblioteca qtree'}]\n",
            "resposta: A prova de $\\vdash (A \\lor (A \\land B)) \\rightarrow A$ utilizando o método de **tableaux analíticos** é a seguinte:\n",
            "\n",
            "\\vspace{0.5cm}\n",
            "\n",
            "\\Tree [.{$F~((A \\lor (A \\land B)) \\rightarrow A)$}  \n",
            "    [.{$T~(A \\lor (A \\land B))$ \\\\ $F~A$}  \n",
            "        [.{$T~A$}  \n",
            "            [.{${\\color{red}\\times}$} ]  % Contradição: T A e F A\n",
            "        ]  \n",
            "        [.{$T~(A \\land B)$}  \n",
            "            [.{$T~A$ \\\\ $T~B$}  \n",
            "                [.{${\\color{red}\\times}$} ]  % Contradição: T A e F A\n",
            "            ]  \n",
            "        ]  \n",
            "    ]  \n",
            "]\n",
            "\n",
            "\\vspace{0.5cm}\n",
            "\n",
            "**Explicação:**\n",
            "\n",
            "1. **Passo 1:**  \n",
            "   - Assumimos a negação da fórmula: $F~((A \\lor (A \\land B)) \\rightarrow A)$.  \n",
            "   - Pela regra da implicação em tableaux, isso implica:  \n",
            "     - $T~(A \\lor (A \\land B))$ (antecedente verdadeiro)  \n",
            "     - $F~A$ (consequente falso).\n",
            "\n",
            "2. **Passo 2:**  \n",
            "   - Decomponha $T~(A \\lor (A \\land B))$ em dois ramos:  \n",
            "     - **Ramo 1:** $T~A$ (primeira disjunção).  \n",
            "       - Contradição imediata com $F~A$ (fechado com $\\times$).  \n",
            "     - **Ramo 2:** $T~(A \\land B)$ (segunda disjunção).  \n",
            "       - Decomponha a conjunção:  \n",
            "         - $T~A$ e $T~B$.  \n",
            "         - Contradição entre $T~A$ e $F~A$ (fechado com $\\times$).\n",
            "\n",
            "3. **Conclusão:**  \n",
            "   Todos os ramos fecham, logo a fórmula original $(A \\lor (A \\land B)) \\rightarrow A$ é **válida**.\n"
          ]
        }
      ]
    },
    {
      "cell_type": "code",
      "source": [
        "arquivo_LATEX"
      ],
      "metadata": {
        "id": "LPW3QA6ryMVj",
        "colab": {
          "base_uri": "https://localhost:8080/",
          "height": 139
        },
        "outputId": "dfca0acc-f870-4fcb-d9ae-3ede0a6cb4cd"
      },
      "execution_count": null,
      "outputs": [
        {
          "output_type": "execute_result",
          "data": {
            "text/plain": [
              "'\\n\\\\item $\\\\vdash (A\\\\lor (A\\\\land B))\\\\rightarrow A$ \\n\\nRESPOSTA\\n\\nPara provar \\\\( \\\\vdash (A \\\\lor (A \\\\land B)) \\\\rightarrow A \\\\) usando tableaux analíticos com o pacote `qtree` em LaTeX, seguimos os passos abaixo:\\n\\n1. **Negação da Fórmula:**  \\n   Começamos com a negação \\\\( F~((A \\\\lor (A \\\\land B)) \\\\rightarrow A) \\\\).\\n\\n2. **Regra da Implicação (F→):**  \\n   Aplicando \\\\( F \\\\rightarrow \\\\), obtemos:  \\n   - \\\\( T~(A \\\\lor (A \\\\land B)) \\\\) (verdadeiro no antecedente),  \\n   - \\\\( F~A \\\\) (falso no consequente).\\n\\n3. **Decomposição da Disjunção (T∨):**  \\n   \\\\( T~(A \\\\lor (A \\\\land B)) \\\\) gera dois ramos:  \\n   - **Ramo 1:** \\\\( T~A \\\\),  \\n   - **Ramo 2:** \\\\( T~(A \\\\land B) \\\\).\\n\\n4. **Contradições e Fechamento:**  \\n   - No **Ramo 1**, \\\\( T~A \\\\) entra em contradição com \\\\( F~A \\\\), fechando com \\\\( \\\\times \\\\).  \\n   - No **Ramo 2**, decomponha \\\\( T~(A \\\\land B) \\\\) em \\\\( T~A \\\\) e \\\\( T~B \\\\). Então, \\\\( T~A \\\\) contradiz \\\\( F~A \\\\), fechando com \\\\( \\\\times \\\\).\\n\\n**Árvore em LaTeX usando `qtree`:**\\n\\n```latex\\n\\\\Tree [.{$F~(A \\\\lor (A \\\\land B)) \\\\rightarrow A$} \\n          [.{$T~A \\\\lor (A \\\\land B)$ \\\\\\\\ $F~A$}\\n              [.{$T~A$} \\n                  [.$\\\\times$ ]\\n              ]\\n              [.{$T~A \\\\land B$} \\n                  [.{$T~A$ \\\\\\\\ $T~B$} \\n                      [.$\\\\times$ ]\\n                  ]\\n              ]\\n          ]\\n      ]\\n```\\n\\n**Explicação Detalhada:**\\n\\n- **Passo 1:** A negação da fórmula é colocada na raiz.  \\n- **Passo 2:** A regra \\\\( F \\\\rightarrow \\\\) divide em \\\\( T~(A \\\\lor (A \\\\land B)) \\\\) e \\\\( F~A \\\\).  \\n- **Passo 3:** A disjunção \\\\( T~\\\\lor \\\\) abre dois ramos.  \\n  - **Ramo Esquerdo:** \\\\( T~A \\\\) colide com \\\\( F~A \\\\), gerando uma contradição.  \\n  - **Ramo Direito:** A conjunção \\\\( T~\\\\land \\\\) decompõe-se em \\\\( T~A \\\\) e \\\\( T~B \\\\). O \\\\( T~A \\\\) contradiz \\\\( F~A \\\\), fechando o tableau.  \\n\\nTodos os ramos fecham, comprovando que \\\\( (A \\\\lor (A \\\\land B)) \\\\rightarrow A \\\\) é uma tautologia.\\n\\n\\n\\\\item $\\\\vdash (A\\\\land (A\\\\lor B))\\\\rightarrow A$ \\n\\nRESPOSTA\\n\\nA prova utilizando o sistema de tableaux analíticos com a biblioteca `qtree` em LaTeX é a seguinte:\\n\\n```\\n$$\\n\\\\Tree [.{$F~((A \\\\land (A \\\\lor B)) \\\\rightarrow A)$}\\n          [.{$T~(A \\\\land (A \\\\lor B))$ \\\\\\\\ $F~A$}\\n              [.{$T~A$ \\\\\\\\ $T~(A \\\\lor B)$}\\n                  [.{$\\\\times$} ]\\n              ]\\n          ]\\n      ]\\n$$\\n```\\n\\n**Explicação passo a passo:**\\n\\n1. **Objetivo:** Demonstrar \\\\( \\\\vdash (A \\\\land (A \\\\lor B)) \\\\rightarrow A \\\\).  \\n   Começamos negando a fórmula:  \\n   \\\\( F~((A \\\\land (A \\\\lor B)) \\\\rightarrow A) \\\\).\\n\\n2. **Regra da negação da implicação (\\\\( F \\\\rightarrow \\\\)):**  \\n   Uma implicação \\\\( P \\\\rightarrow Q \\\\) é falsa se \\\\( P \\\\) é verdadeiro e \\\\( Q \\\\) é falso. Portanto:  \\n   - \\\\( T~(A \\\\land (A \\\\lor B)) \\\\) (antecedente verdadeiro)  \\n   - \\\\( F~A \\\\) (consequente falso).\\n\\n3. **Regra da conjunção verdadeira (\\\\( T \\\\land \\\\)):**  \\n   Decomponha \\\\( T~(A \\\\land (A \\\\lor B)) \\\\) em:  \\n   - \\\\( T~A \\\\)  \\n   - \\\\( T~(A \\\\lor B) \\\\).\\n\\n4. **Contradição imediata:**  \\n   Na mesma ramificação, temos \\\\( T~A \\\\) (decomposição da conjunção) e \\\\( F~A \\\\) (da negação da implicação).  \\n   Isso gera uma contradição (\\\\( T~A \\\\) e \\\\( F~A \\\\)), marcando o fechamento do ramo com \\\\( \\\\times \\\\).\\n\\n5. **Conclusão:**  \\n   Todos os ramos estão fechados, portanto a negação da fórmula original é insustentável.  \\n   Logo, \\\\( (A \\\\land (A \\\\lor B)) \\\\rightarrow A \\\\) é uma tautologia.\\n\\n\\n\\\\item $A\\\\rightarrow (B\\\\rightarrow C) \\\\vdash B\\\\rightarrow (A\\\\rightarrow C)$ \\n\\nRESPOSTA\\n\\nPara demonstrar que \\\\( A \\\\rightarrow (B \\\\rightarrow C) \\\\vdash B \\\\rightarrow (A \\\\rightarrow C) \\\\) usando tableaux analíticos, partimos da **negação da conclusão** e aplicamos as regras de decomposição até encontrar contradições. A estrutura em LaTeX com a biblioteca `qtree` é:\\n\\n```latex\\n\\\\documentclass{article}\\n\\\\usepackage{qtree}\\n\\\\begin{document}\\n\\n\\\\Tree[.{$T\\\\ A \\\\rightarrow (B \\\\rightarrow C)$ \\\\\\\\ $F\\\\ B \\\\rightarrow (A \\\\rightarrow C\\n\\n'"
            ],
            "application/vnd.google.colaboratory.intrinsic+json": {
              "type": "string"
            }
          },
          "metadata": {},
          "execution_count": 31
        }
      ]
    },
    {
      "cell_type": "code",
      "source": [
        "\n",
        "dicionarios_questoes"
      ],
      "metadata": {
        "id": "nAb_otn_rASg",
        "colab": {
          "base_uri": "https://localhost:8080/"
        },
        "outputId": "d3a5bf5b-437d-47f3-cbb8-d4f4bbaf40ac"
      },
      "execution_count": null,
      "outputs": [
        {
          "output_type": "execute_result",
          "data": {
            "text/plain": [
              "[{'numero': 'q1',\n",
              "  'questao': '$\\\\vdash (A\\\\lor (A\\\\land B))\\\\rightarrow A$',\n",
              "  'resposta': 'Para provar \\\\( \\\\vdash (A \\\\lor (A \\\\land B)) \\\\rightarrow A \\\\) usando tableaux analíticos com o pacote `qtree` em LaTeX, seguimos os passos abaixo:\\n\\n1. **Negação da Fórmula:**  \\n   Começamos com a negação \\\\( F~((A \\\\lor (A \\\\land B)) \\\\rightarrow A) \\\\).\\n\\n2. **Regra da Implicação (F→):**  \\n   Aplicando \\\\( F \\\\rightarrow \\\\), obtemos:  \\n   - \\\\( T~(A \\\\lor (A \\\\land B)) \\\\) (verdadeiro no antecedente),  \\n   - \\\\( F~A \\\\) (falso no consequente).\\n\\n3. **Decomposição da Disjunção (T∨):**  \\n   \\\\( T~(A \\\\lor (A \\\\land B)) \\\\) gera dois ramos:  \\n   - **Ramo 1:** \\\\( T~A \\\\),  \\n   - **Ramo 2:** \\\\( T~(A \\\\land B) \\\\).\\n\\n4. **Contradições e Fechamento:**  \\n   - No **Ramo 1**, \\\\( T~A \\\\) entra em contradição com \\\\( F~A \\\\), fechando com \\\\( \\\\times \\\\).  \\n   - No **Ramo 2**, decomponha \\\\( T~(A \\\\land B) \\\\) em \\\\( T~A \\\\) e \\\\( T~B \\\\). Então, \\\\( T~A \\\\) contradiz \\\\( F~A \\\\), fechando com \\\\( \\\\times \\\\).\\n\\n**Árvore em LaTeX usando `qtree`:**\\n\\n```latex\\n\\\\Tree [.{$F~(A \\\\lor (A \\\\land B)) \\\\rightarrow A$} \\n          [.{$T~A \\\\lor (A \\\\land B)$ \\\\\\\\ $F~A$}\\n              [.{$T~A$} \\n                  [.$\\\\times$ ]\\n              ]\\n              [.{$T~A \\\\land B$} \\n                  [.{$T~A$ \\\\\\\\ $T~B$} \\n                      [.$\\\\times$ ]\\n                  ]\\n              ]\\n          ]\\n      ]\\n```\\n\\n**Explicação Detalhada:**\\n\\n- **Passo 1:** A negação da fórmula é colocada na raiz.  \\n- **Passo 2:** A regra \\\\( F \\\\rightarrow \\\\) divide em \\\\( T~(A \\\\lor (A \\\\land B)) \\\\) e \\\\( F~A \\\\).  \\n- **Passo 3:** A disjunção \\\\( T~\\\\lor \\\\) abre dois ramos.  \\n  - **Ramo Esquerdo:** \\\\( T~A \\\\) colide com \\\\( F~A \\\\), gerando uma contradição.  \\n  - **Ramo Direito:** A conjunção \\\\( T~\\\\land \\\\) decompõe-se em \\\\( T~A \\\\) e \\\\( T~B \\\\). O \\\\( T~A \\\\) contradiz \\\\( F~A \\\\), fechando o tableau.  \\n\\nTodos os ramos fecham, comprovando que \\\\( (A \\\\lor (A \\\\land B)) \\\\rightarrow A \\\\) é uma tautologia.',\n",
              "  'resposta_correta': '',\n",
              "  'avaliacao': ''},\n",
              " {'numero': 'q2',\n",
              "  'questao': '$\\\\vdash (A\\\\land (A\\\\lor B))\\\\rightarrow A$',\n",
              "  'resposta': 'A prova utilizando o sistema de tableaux analíticos com a biblioteca `qtree` em LaTeX é a seguinte:\\n\\n```\\n$$\\n\\\\Tree [.{$F~((A \\\\land (A \\\\lor B)) \\\\rightarrow A)$}\\n          [.{$T~(A \\\\land (A \\\\lor B))$ \\\\\\\\ $F~A$}\\n              [.{$T~A$ \\\\\\\\ $T~(A \\\\lor B)$}\\n                  [.{$\\\\times$} ]\\n              ]\\n          ]\\n      ]\\n$$\\n```\\n\\n**Explicação passo a passo:**\\n\\n1. **Objetivo:** Demonstrar \\\\( \\\\vdash (A \\\\land (A \\\\lor B)) \\\\rightarrow A \\\\).  \\n   Começamos negando a fórmula:  \\n   \\\\( F~((A \\\\land (A \\\\lor B)) \\\\rightarrow A) \\\\).\\n\\n2. **Regra da negação da implicação (\\\\( F \\\\rightarrow \\\\)):**  \\n   Uma implicação \\\\( P \\\\rightarrow Q \\\\) é falsa se \\\\( P \\\\) é verdadeiro e \\\\( Q \\\\) é falso. Portanto:  \\n   - \\\\( T~(A \\\\land (A \\\\lor B)) \\\\) (antecedente verdadeiro)  \\n   - \\\\( F~A \\\\) (consequente falso).\\n\\n3. **Regra da conjunção verdadeira (\\\\( T \\\\land \\\\)):**  \\n   Decomponha \\\\( T~(A \\\\land (A \\\\lor B)) \\\\) em:  \\n   - \\\\( T~A \\\\)  \\n   - \\\\( T~(A \\\\lor B) \\\\).\\n\\n4. **Contradição imediata:**  \\n   Na mesma ramificação, temos \\\\( T~A \\\\) (decomposição da conjunção) e \\\\( F~A \\\\) (da negação da implicação).  \\n   Isso gera uma contradição (\\\\( T~A \\\\) e \\\\( F~A \\\\)), marcando o fechamento do ramo com \\\\( \\\\times \\\\).\\n\\n5. **Conclusão:**  \\n   Todos os ramos estão fechados, portanto a negação da fórmula original é insustentável.  \\n   Logo, \\\\( (A \\\\land (A \\\\lor B)) \\\\rightarrow A \\\\) é uma tautologia.',\n",
              "  'resposta_correta': '',\n",
              "  'avaliacao': ''},\n",
              " {'numero': 'q3',\n",
              "  'questao': '$A\\\\rightarrow (B\\\\rightarrow C) \\\\vdash B\\\\rightarrow (A\\\\rightarrow C)$',\n",
              "  'resposta': 'Para demonstrar que \\\\( A \\\\rightarrow (B \\\\rightarrow C) \\\\vdash B \\\\rightarrow (A \\\\rightarrow C) \\\\) usando tableaux analíticos, partimos da **negação da conclusão** e aplicamos as regras de decomposição até encontrar contradições. A estrutura em LaTeX com a biblioteca `qtree` é:\\n\\n```latex\\n\\\\documentclass{article}\\n\\\\usepackage{qtree}\\n\\\\begin{document}\\n\\n\\\\Tree[.{$T\\\\ A \\\\rightarrow (B \\\\rightarrow C)$ \\\\\\\\ $F\\\\ B \\\\rightarrow (A \\\\rightarrow C',\n",
              "  'resposta_correta': '',\n",
              "  'avaliacao': ''}]"
            ]
          },
          "metadata": {},
          "execution_count": 32
        }
      ]
    },
    {
      "cell_type": "code",
      "source": [
        "labels = ['numero','questao','resposta','resposta_correta','avaliacao']"
      ],
      "metadata": {
        "id": "J4obrPgWYoMA"
      },
      "execution_count": null,
      "outputs": []
    },
    {
      "cell_type": "code",
      "source": [
        "import csv\n",
        "\n",
        "try:\n",
        "    with open(\"csv_dct.csv\", \"w\") as f:\n",
        "        writer = csv.DictWriter(f, fieldnames=labels)\n",
        "        writer.writeheader()\n",
        "        for elem in dicionarios_questoes:\n",
        "            writer.writerow(elem)\n",
        "except IOError:\n",
        "    print(\"I/O error\")"
      ],
      "metadata": {
        "id": "1X69RIy1cJBL"
      },
      "execution_count": null,
      "outputs": []
    },
    {
      "cell_type": "code",
      "source": [
        "arquivo = open('latex-resultados.txt','w')\n",
        "arquivo.write(arquivo_LATEX)\n",
        "arquivo.close()\n"
      ],
      "metadata": {
        "id": "0Rsl66cPccjF"
      },
    {
      "cell_type": "code",
      "source": [
        "\n",
        "\n",
        "\n"
      ],
      "metadata": {
        "id": "wLG9noM459TN"
      },
      "execution_count": null,
      "outputs": []
    }
  ]
}
